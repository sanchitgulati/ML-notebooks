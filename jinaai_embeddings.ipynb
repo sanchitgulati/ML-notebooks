{
  "nbformat": 4,
  "nbformat_minor": 0,
  "metadata": {
    "colab": {
      "provenance": [],
      "authorship_tag": "ABX9TyPnT2/yiiqC6/LMZYxVXR7O",
      "include_colab_link": true
    },
    "kernelspec": {
      "name": "python3",
      "display_name": "Python 3"
    },
    "language_info": {
      "name": "python"
    }
  },
  "cells": [
    {
      "cell_type": "markdown",
      "metadata": {
        "id": "view-in-github",
        "colab_type": "text"
      },
      "source": [
        "<a href=\"https://colab.research.google.com/github/sanchitgulati/ML-notebooks/blob/main/jinaai_embeddings.ipynb\" target=\"_parent\"><img src=\"https://colab.research.google.com/assets/colab-badge.svg\" alt=\"Open In Colab\"/></a>"
      ]
    },
    {
      "cell_type": "code",
      "source": [
        "!pip install transformers"
      ],
      "metadata": {
        "id": "1Cks7YFFrT6h"
      },
      "execution_count": null,
      "outputs": []
    },
    {
      "cell_type": "code",
      "source": [
        "data = \"\""
      ],
      "metadata": {
        "id": "NaIHLafKv6PQ"
      },
      "execution_count": null,
      "outputs": []
    },
    {
      "cell_type": "code",
      "source": [
        "exec(\"\"\"\\ndata = [\\n    {\\n      \"name\": \"The Lion King\",\\n      \"plot\": \"A young lion prince must reclaim his throne after his father is murdered.\",\\n      \"year_of_release\": 1994,\\n      \"is_family_movie\": True\\n    },\\n    {\\n      \"name\": \"Toy Story\",\\n      \"plot\": \"Toys come to life when their owner is not around.\",\\n      \"year_of_release\": 1995,\\n      \"is_family_movie\": True\\n    },\\n    {\\n      \"name\": \"Finding Nemo\",\\n      \"plot\": \"A clownfish embarks on a journey to find his son who was captured by a diver.\",\\n      \"year_of_release\": 2003,\\n      \"is_family_movie\": True\\n    },\\n    {\\n      \"name\": \"Forrest Gump\",\\n      \"plot\": \"The life story of a man with low intelligence who achieves great success.\",\\n      \"year_of_release\": 1994,\\n      \"is_family_movie\": False\\n    },\\n    {\\n      \"name\": \"E.T. the Extra-Terrestrial\",\\n      \"plot\": \"A young boy befriends an alien who is stranded on Earth.\",\\n      \"year_of_release\": 1982,\\n      \"is_family_movie\": True\\n    },\\n    {\\n      \"name\": \"Shrek\",\\n      \"plot\": \"An ogre embarks on a journey to rescue a princess and discovers love and friendship.\",\\n      \"year_of_release\": 2001,\\n      \"is_family_movie\": True\\n    },\\n    {\\n      \"name\": \"The Incredibles\",\\n      \"plot\": \"A family of superheroes comes out of retirement to save the world.\",\\n      \"year_of_release\": 2004,\\n      \"is_family_movie\": True\\n    },\\n    {\\n      \"name\": \"Frozen\",\\n      \"plot\": \"A young princess must break a frozen curse with the help of friends.\",\\n      \"year_of_release\": 2013,\\n      \"is_family_movie\": True\\n    },\\n    {\\n      \"name\": \"Jaws\",\\n      \"plot\": \"A giant great white shark terrorizes a seaside town.\",\\n      \"year_of_release\": 1975,\\n      \"is_family_movie\": False\\n    },\\n    {\\n      \"name\": \"The Sound of Music\",\\n      \"plot\": \"A woman becomes a governess to a widowed naval captain's seven children.\",\\n      \"year_of_release\": 1965,\\n      \"is_family_movie\": True\\n    },\\n    {\\n      \"name\": \"Home Alone\",\\n      \"plot\": \"A young boy is accidentally left behind when his family goes on vacation and must defend his home from burglars.\",\\n      \"year_of_release\": 1990,\\n      \"is_family_movie\": True\\n    },\\n    {\\n      \"name\": \"Jurassic Park\",\\n      \"plot\": \"Scientists create a theme park with genetically-engineered dinosaurs, but things go wrong.\",\\n      \"year_of_release\": 1993,\\n      \"is_family_movie\": False\\n    },\\n    {\\n      \"name\": \"Mary Poppins\",\\n      \"plot\": \"A magical nanny takes care of two children and teaches them valuable life lessons.\",\\n      \"year_of_release\": 1964,\\n      \"is_family_movie\": True\\n    },\\n    {\\n      \"name\": \"The Little Mermaid\",\\n      \"plot\": \"A young mermaid dreams of becoming human and falls in love with a prince.\",\\n      \"year_of_release\": 1989,\\n      \"is_family_movie\": True\\n    },\\n    {\\n      \"name\": \"Beauty and the Beast\",\\n      \"plot\": \"A young woman befriends a prince under a curse that has turned him into a beast.\",\\n      \"year_of_release\": 1991,\\n      \"is_family_movie\": True\\n    },\\n    {\\n      \"name\": \"Aladdin\",\\n      \"plot\": \"A young man finds a magical lamp and is granted three wishes by a genie.\",\\n      \"year_of_release\": 1992,\\n      \"is_family_movie\": True\\n    },\\n    {\\n      \"name\": \"The Princess Bride\",\\n      \"plot\": \"A classic fairy tale with pirates, giants, and True love.\",\\n      \"year_of_release\": 1987,\\n      \"is_family_movie\": True\\n    },\\n    {\\n      \"name\": \"Home Alone 2: Lost in New York\",\\n      \"plot\": \"The young boy from Home Alone finds himself in New York, where he must thwart the plans of burglars once again.\",\\n      \"year_of_release\": 1992,\\n      \"is_family_movie\": True\\n    },\\n    {\\n      \"name\": \"Ratatouille\",\\n      \"plot\": \"A rat with a passion for cooking teams up with a kitchen worker in Paris.\",\\n      \"year_of_release\": 2007,\\n      \"is_family_movie\": True\\n    },\\n    {\\n      \"name\": \"The Wizard of Oz\",\\n      \"plot\": \"A young girl is transported to a magical land and embarks on a journey to find the Wizard of Oz.\",\\n      \"year_of_release\": 1939,\\n      \"is_family_movie\": True\\n    },\\n    {\\n      \"name\": \"The Muppets\",\\n      \"plot\": \"The Muppets reunite to save their old theater from a greedy oil tycoon.\",\\n      \"year_of_release\": 2011,\\n      \"is_family_movie\": True\\n    },\\n    {\\n      \"name\": \"Despicable Me\",\\n      \"plot\": \"A supervillain adopts three orphaned girls, leading to a change of heart.\",\\n      \"year_of_release\": 2010,\\n      \"is_family_movie\": True\\n    },\\n    {\\n      \"name\": \"Paddington\",\\n      \"plot\": \"A young bear from Peru arrives in London and finds a new home with the Brown family.\",\\n      \"year_of_release\": 2014,\\n      \"is_family_movie\": True\\n    },\\n    {\\n      \"name\": \"The Goonies\",\\n      \"plot\": \"A group of kids embark on a treasure hunt to save their homes from foreclosure.\",\\n      \"year_of_release\": 1985,\\n      \"is_family_movie\": True\\n    },\\n    {\\n      \"name\": \"The Parent Trap\",\\n      \"plot\": \"Twin sisters separated at birth reunite and try to get their parents back together.\",\\n      \"year_of_release\": 1998,\\n      \"is_family_movie\": True\\n    },\\n    {\\n      \"name\": \"The Karate Kid\",\\n      \"plot\": \"A teenager learns martial arts from a master and competes in a karate tournament.\",\\n      \"year_of_release\": 1984,\\n      \"is_family_movie\": True\\n    },\\n    {\\n      \"name\": \"Willy Wonka & the Chocolate Factory\",\\n      \"plot\": \"A young boy wins a golden ticket to tour a magical chocolate factory.\",\\n      \"year_of_release\": 1971,\\n      \"is_family_movie\": True\\n    },\\n    {\\n      \"name\": \"Charlie and the Chocolate Factory\",\\n      \"plot\": \"A young boy wins a golden ticket to tour a mysterious chocolate factory.\",\\n      \"year_of_release\": 2005,\\n      \"is_family_movie\": True\\n    },\\n    {\\n      \"name\": \"The Sound of Music\",\\n      \"plot\": \"A woman becomes a governess to a widowed naval captain's seven children.\",\\n      \"year_of_release\": 1965,\\n      \"is_family_movie\": True\\n    },\\n    {\\n      \"name\": \"The Princess Diaries\",\\n      \"plot\": \"A teenager discovers she's a princess and must adapt to her royal responsibilities.\",\\n      \"year_of_release\": 2001,\\n      \"is_family_movie\": True\\n    },\\n    {\\n      \"name\": \"Babe\",\\n      \"plot\": \"A young pig with a talent for herding sheep dreams of becoming a sheepdog.\",\\n      \"year_of_release\": 1995,\\n      \"is_family_movie\": True\\n    },\\n    {\\n      \"name\": \"The Chronicles of Narnia: The Lion, the Witch and the Wardrobe\",\\n      \"plot\": \"Four siblings enter a magical world and join a battle against an evil witch.\",\\n      \"year_of_release\": 2005,\\n      \"is_family_movie\": True\\n    },\\n    {\\n      \"name\": \"Wreck-It Ralph\",\\n      \"plot\": \"A video game villain seeks to be a hero and explores other game worlds.\",\\n      \"year_of_release\": 2012,\\n      \"is_family_movie\": True\\n    },\\n    {\\n      \"name\": \"Big\",\\n      \"plot\": \"A young boy's wish to be big comes True, and he experiences the challenges of adulthood.\",\\n      \"year_of_release\": 1988,\\n      \"is_family_movie\": False\\n    },\\n    {\\n      \"name\": \"The Jungle Book\",\\n      \"plot\": \"A young boy raised by wolves embarks on a journey through the jungle.\",\\n      \"year_of_release\": 1967,\\n      \"is_family_movie\": True\\n    },\\n    {\\n      \"name\": \"Finding Dory\",\\n      \"plot\": \"A forgetful fish embarks on a journey to find her long-lost parents.\",\\n      \"year_of_release\": 2016,\\n      \"is_family_movie\": True\\n    },\\n    {\\n      \"name\": \"The Goonies\",\\n      \"plot\": \"A group of kids embark on a treasure hunt to save their homes from foreclosure.\",\\n      \"year_of_release\": 1985,\\n      \"is_family_movie\": True\\n    },\\n    {\\n      \"name\": \"The Parent Trap\",\\n      \"plot\": \"Twin sisters separated at birth reunite and try to get their parents back together.\",\\n      \"year_of_release\": 1998,\\n      \"is_family_movie\": True\\n    },\\n    {\\n      \"name\": \"The Karate Kid\",\\n      \"plot\": \"A teenager learns martial arts from a master and competes in a karate tournament.\",\\n      \"year_of_release\": 1984,\\n      \"is_family_movie\": True\\n    },\\n    {\\n      \"name\": \"Willy Wonka & the Chocolate Factory\",\\n      \"plot\": \"A young boy wins a golden ticket to tour a magical chocolate factory.\",\\n      \"year_of_release\": 1971,\\n      \"is_family_movie\": True\\n    },\\n    {\\n      \"name\": \"Charlie and the Chocolate Factory\",\\n      \"plot\": \"A young boy wins a golden ticket to tour a mysterious chocolate factory.\",\\n      \"year_of_release\": 2005,\\n      \"is_family_movie\": True\\n    },\\n    {\\n      \"name\": \"The Sound of Music\",\\n      \"plot\": \"A woman becomes a governess to a widowed naval captain's seven children.\",\\n      \"year_of_release\": 1965,\\n      \"is_family_movie\": True\\n    },\\n    {\\n      \"name\": \"The Princess Diaries\",\\n      \"plot\": \"A teenager discovers she's a princess and must adapt to her royal responsibilities.\",\\n      \"year_of_release\": 2001,\\n      \"is_family_movie\": True\\n    },\\n    {\\n      \"name\": \"Babe\",\\n      \"plot\": \"A young pig with a talent for herding sheep dreams of becoming a sheepdog.\",\\n      \"year_of_release\": 1995,\\n      \"is_family_movie\": True\\n    },\\n    {\\n      \"name\": \"The Chronicles of Narnia: The Lion, the Witch and the Wardrobe\",\\n      \"plot\": \"Four siblings enter a magical world and join a battle against an evil witch.\",\\n      \"year_of_release\": 2005,\\n      \"is_family_movie\": True\\n    },\\n    {\\n      \"name\": \"Wreck-It Ralph\",\\n      \"plot\": \"A video game villain seeks to be a hero and explores other game worlds.\",\\n      \"year_of_release\": 2012,\\n      \"is_family_movie\": True\\n    },\\n    {\\n      \"name\": \"Big\",\\n      \"plot\": \"A young boy's wish to be big comes True, and he experiences the challenges of adulthood.\",\\n      \"year_of_release\": 1988,\\n      \"is_family_movie\": False\\n    },\\n    {\\n      \"name\": \"The Jungle Book\",\\n      \"plot\": \"A young boy raised by wolves embarks on a journey through the jungle.\",\\n      \"year_of_release\": 1967,\\n      \"is_family_movie\": True\\n    },\\n    {\\n      \"name\": \"Finding Dory\",\\n      \"plot\": \"A forgetful fish embarks on a journey to find her long-lost parents.\",\\n      \"year_of_release\": 2016,\\n      \"is_family_movie\": True\\n    },\\n    {\\n      \"name\": \"The Goonies\",\\n      \"plot\": \"A group of kids embark on a treasure hunt to save their homes from foreclosure.\",\\n      \"year_of_release\": 1985,\\n      \"is_family_movie\": True\\n    },\\n    {\\n      \"name\": \"The Parent Trap\",\\n      \"plot\": \"Twin sisters separated at birth reunite and try to get their parents back together.\",\\n      \"year_of_release\": 1998,\\n      \"is_family_movie\": True\\n    },\\n    {\\n      \"name\": \"The Karate Kid\",\\n      \"plot\": \"A teenager learns martial arts from a master and competes in a karate tournament.\",\\n      \"year_of_release\": 1984,\\n      \"is_family_movie\": True\\n    },\\n    {\\n      \"name\": \"Willy Wonka & the Chocolate Factory\",\\n      \"plot\": \"A young boy wins a golden ticket to tour a magical chocolate factory.\",\\n      \"year_of_release\": 1971,\\n      \"is_family_movie\": True\\n    },\\n    {\\n      \"name\": \"Charlie and the Chocolate Factory\",\\n      \"plot\": \"A young boy wins a golden ticket to tour a mysterious chocolate factory.\",\\n      \"year_of_release\": 2005,\\n      \"is_family_movie\": True\\n    },\\n    {\\n      \"name\": \"The Sound of Music\",\\n      \"plot\": \"A woman becomes a governess to a widowed naval captain's seven children.\",\\n      \"year_of_release\": 1965,\\n      \"is_family_movie\": True\\n    },\\n    {\\n      \"name\": \"The Princess Diaries\",\\n      \"plot\": \"A teenager discovers she's a princess and must adapt to her royal responsibilities.\",\\n      \"year_of_release\": 2001,\\n      \"is_family_movie\": True\\n    },\\n  ]\\n\"\"\")"
      ],
      "metadata": {
        "id": "tdoU2yXLuP0E"
      },
      "execution_count": 15,
      "outputs": []
    },
    {
      "cell_type": "code",
      "source": [
        "docs = []"
      ],
      "metadata": {
        "id": "R7M5JOMMv5BE"
      },
      "execution_count": null,
      "outputs": []
    },
    {
      "cell_type": "code",
      "execution_count": 12,
      "metadata": {
        "id": "uYj7fZetqQwY"
      },
      "outputs": [],
      "source": [
        "for item in data:\n",
        "    doc_text = \"NAME:\\n\" + item[\"name\"] + \"\\n\"\n",
        "    doc_text += \"PLOT:\\n\" + item[\"plot\"] + \"\\n\"\n",
        "    doc_text += \"YEAR OF RELEASE:\\n\" + str(item[\"year_of_release\"]) + \"\\n\"\n",
        "    doc_text += \"IS FAMILY MOVIE:\\n\" + str(item[\"is_family_movie\"]) + \"\\n\"\n",
        "\n",
        "    doc = {\n",
        "        \"name\": item[\"name\"],\n",
        "        \"text\": doc_text,\n",
        "        \"plot\": item[\"plot\"],\n",
        "        \"year_of_release\": item[\"year_of_release\"],\n",
        "        \"is_family_movie\": item[\"is_family_movie\"]\n",
        "    }\n",
        "\n",
        "    docs.append(doc)"
      ]
    },
    {
      "cell_type": "code",
      "source": [
        "from transformers import AutoModel\n",
        "from numpy.linalg import norm\n",
        "\n",
        "model = AutoModel.from_pretrained('jinaai/jina-embeddings-v2-small-en', trust_remote_code=True)"
      ],
      "metadata": {
        "id": "_L9KuwzIqfCu"
      },
      "execution_count": 18,
      "outputs": []
    },
    {
      "cell_type": "code",
      "source": [
        "for index,doc in enumerate(docs):\n",
        "    if (index % 10 == 0):\n",
        "        print(f\"tickets embedded: {index}\")\n",
        "    embedding = model.encode(doc[\"text\"])\n",
        "    doc[\"embedding\"] = embedding\n"
      ],
      "metadata": {
        "colab": {
          "base_uri": "https://localhost:8080/"
        },
        "id": "Lwn3d1c5t5Bh",
        "outputId": "178b22db-f9cb-4ad8-97d5-c73c7bbb6e4c"
      },
      "execution_count": 20,
      "outputs": [
        {
          "output_type": "stream",
          "name": "stdout",
          "text": [
            "tickets embedded: 0\n",
            "tickets embedded: 10\n",
            "tickets embedded: 20\n",
            "tickets embedded: 30\n",
            "tickets embedded: 40\n",
            "tickets embedded: 50\n"
          ]
        }
      ]
    },
    {
      "cell_type": "code",
      "source": [
        "import pickle\n",
        "\n",
        "index_file = open('index.pickle', 'wb')\n",
        "pickle.dump(docs,index_file)\n",
        "index_file.close()"
      ],
      "metadata": {
        "id": "UkTnczKct5zo"
      },
      "execution_count": 22,
      "outputs": []
    },
    {
      "cell_type": "code",
      "source": [
        "import pickle\n",
        "\n",
        "top_k = 3\n",
        "\n",
        "index_file = open('index.pickle', 'rb')\n",
        "docs = pickle.load(index_file)\n",
        "index_file.close()\n"
      ],
      "metadata": {
        "id": "GuiC7iJjqiop"
      },
      "execution_count": 23,
      "outputs": []
    },
    {
      "cell_type": "code",
      "source": [
        "from transformers import AutoModel\n",
        "from numpy.linalg import norm\n",
        "\n",
        "# this function takes two embeddings and gives you a related-to-each-other score\n",
        "cos_sim = lambda a,b: (a @ b.T) / (norm(a)*norm(b))\n",
        "\n",
        "model = AutoModel.from_pretrained('jinaai/jina-embeddings-v2-small-en', trust_remote_code=True)"
      ],
      "metadata": {
        "id": "QJIVPb-5wDgA"
      },
      "execution_count": 26,
      "outputs": []
    },
    {
      "cell_type": "code",
      "source": [
        "query = input(\"Query: \")\n",
        "query_vector = model.encode(query)\n",
        "\n",
        "results = []\n",
        "\n",
        "for doc in docs:\n",
        "    score = cos_sim(query_vector, doc[\"embedding\"])\n",
        "    results.append({\"doc\":doc,\"score\":score})\n",
        "\n",
        "results.sort(key=lambda i: i[\"score\"], reverse=True)\n",
        "print(\"\\nSearch Results:\\n===\\n\\n\")\n",
        "for i in range(top_k):\n",
        "    print(\"Name : \" + str(results[i][\"doc\"][\"name\"]))\n",
        "    print(\"SCORE: \" + str(results[i][\"score\"]))\n",
        "    print(\"PLOT: \" + str(results[i][\"doc\"][\"plot\"]))\n",
        "    print(\"YEAR OF RELEASE: \" + str(results[i][\"doc\"][\"year_of_release\"]))\n",
        "    print(\"IS FAMILY MOVIE: \" + str(results[i][\"doc\"][\"is_family_movie\"]))\n",
        "    print()"
      ],
      "metadata": {
        "colab": {
          "base_uri": "https://localhost:8080/"
        },
        "id": "HMi3KrxSwlHm",
        "outputId": "2464c037-b2f6-4c08-e86e-b9704c70e3f0"
      },
      "execution_count": 29,
      "outputs": [
        {
          "output_type": "stream",
          "name": "stdout",
          "text": [
            "Query: 1990 1991\n",
            "\n",
            "Search Results:\n",
            "===\n",
            "\n",
            "\n",
            "Name : Home Alone\n",
            "SCORE: 0.7771344\n",
            "PLOT: A young boy is accidentally left behind when his family goes on vacation and must defend his home from burglars.\n",
            "YEAR OF RELEASE: 1990\n",
            "IS FAMILY MOVIE: True\n",
            "\n",
            "Name : Willy Wonka & the Chocolate Factory\n",
            "SCORE: 0.7749575\n",
            "PLOT: A young boy wins a golden ticket to tour a magical chocolate factory.\n",
            "YEAR OF RELEASE: 1971\n",
            "IS FAMILY MOVIE: True\n",
            "\n",
            "Name : Willy Wonka & the Chocolate Factory\n",
            "SCORE: 0.7749575\n",
            "PLOT: A young boy wins a golden ticket to tour a magical chocolate factory.\n",
            "YEAR OF RELEASE: 1971\n",
            "IS FAMILY MOVIE: True\n",
            "\n"
          ]
        }
      ]
    }
  ]
}