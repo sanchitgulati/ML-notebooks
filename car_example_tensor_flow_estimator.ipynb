{
  "nbformat": 4,
  "nbformat_minor": 0,
  "metadata": {
    "colab": {
      "provenance": [],
      "authorship_tag": "ABX9TyPQXp4BBun1JmPW/2tZY8pa",
      "include_colab_link": true
    },
    "kernelspec": {
      "name": "python3",
      "display_name": "Python 3"
    },
    "language_info": {
      "name": "python"
    }
  },
  "cells": [
    {
      "cell_type": "markdown",
      "metadata": {
        "id": "view-in-github",
        "colab_type": "text"
      },
      "source": [
        "<a href=\"https://colab.research.google.com/github/sanchitgulati/ML-notebooks/blob/main/car_example_tensor_flow_estimator.ipynb\" target=\"_parent\"><img src=\"https://colab.research.google.com/assets/colab-badge.svg\" alt=\"Open In Colab\"/></a>"
      ]
    },
    {
      "cell_type": "markdown",
      "source": [
        "# Load Libraries"
      ],
      "metadata": {
        "id": "b8beOG0rKraE"
      }
    },
    {
      "cell_type": "code",
      "execution_count": 108,
      "metadata": {
        "id": "CFvJ9MbWKm_8"
      },
      "outputs": [],
      "source": [
        "import pandas as pd\n",
        "import numpy as np\n",
        "import matplotlib.pyplot as plt\n",
        "import tensorflow as tf\n",
        "import math\n",
        "plt.style.use(\"seaborn-colorblind\")\n",
        "%matplotlib inline"
      ]
    },
    {
      "cell_type": "markdown",
      "source": [
        "# Data\n"
      ],
      "metadata": {
        "id": "rzgNLEKULxZ4"
      }
    },
    {
      "cell_type": "code",
      "source": [
        "from google.colab import drive\n",
        "drive.mount('/content/drive')"
      ],
      "metadata": {
        "colab": {
          "base_uri": "https://localhost:8080/"
        },
        "id": "NF1PrewoLw2t",
        "outputId": "4926a1c7-68b8-4516-98f7-59fa639a6cbf"
      },
      "execution_count": 109,
      "outputs": [
        {
          "output_type": "stream",
          "name": "stdout",
          "text": [
            "Drive already mounted at /content/drive; to attempt to forcibly remount, call drive.mount(\"/content/drive\", force_remount=True).\n"
          ]
        }
      ]
    },
    {
      "cell_type": "code",
      "source": [
        "import os\n",
        "path = '/content/drive/MyDrive/ml-notebooks/airbnb'\n",
        "os.chdir(path)"
      ],
      "metadata": {
        "id": "2Fwx-9ZNL0mo"
      },
      "execution_count": 110,
      "outputs": []
    },
    {
      "cell_type": "code",
      "source": [
        "# Provide the names for the columns since the CSV file with the data does\n",
        "# not have a header row.\n",
        "feature_names = ['symboling', 'normalized-losses', 'make', 'fuel-type',\n",
        "        'aspiration', 'num-doors', 'body-style', 'drive-wheels',\n",
        "        'engine-location', 'wheel-base', 'length', 'width', 'height', 'weight',\n",
        "        'engine-type', 'num-cylinders', 'engine-size', 'fuel-system', 'bore',\n",
        "        'stroke', 'compression-ratio', 'horsepower', 'peak-rpm', 'city-mpg',\n",
        "        'highway-mpg', 'price']\n",
        "\n",
        "\n",
        "# Load in the data from a CSV file that is comma separated.\n",
        "car_data = pd.read_csv('https://storage.googleapis.com/mledu-datasets/cars_data.csv',\n",
        "                        sep=',', names=feature_names, header=None, encoding='latin-1')\n",
        "\n",
        "\n",
        "# We'll then randomize the data, just to be sure not to get any pathological\n",
        "# ordering effects that might harm the performance of Stochastic Gradient\n",
        "# Descent.\n",
        "car_data = car_data.reindex(np.random.permutation(car_data.index))\n",
        "\n",
        "print(\"Data set loaded. Num examples: \", len(car_data))"
      ],
      "metadata": {
        "colab": {
          "base_uri": "https://localhost:8080/"
        },
        "id": "-Il96V-hKvIg",
        "outputId": "30069662-2aff-4ed8-e68d-f3b30528828b"
      },
      "execution_count": 111,
      "outputs": [
        {
          "output_type": "stream",
          "name": "stdout",
          "text": [
            "Data set loaded. Num examples:  205\n"
          ]
        }
      ]
    },
    {
      "cell_type": "markdown",
      "source": [
        "# Clean Up"
      ],
      "metadata": {
        "id": "UFLQuL30MVde"
      }
    },
    {
      "cell_type": "code",
      "source": [
        "LABEL = 'price'\n",
        "numeric_feature_names = ['symboling','normalized-losses','wheel-base','length','width',\n",
        "                         'height','weight','engine-size','bore','stroke',\n",
        "                         'compression-ratio','horsepower','peak-rpm','city-mpg','highway-mpg']\n",
        "categorical_feature_names = list(set(feature_names) - set(numeric_feature_names) - set([LABEL]))"
      ],
      "metadata": {
        "id": "Ye-wpTc79Xe0"
      },
      "execution_count": 112,
      "outputs": []
    },
    {
      "cell_type": "code",
      "source": [
        "for feature in numeric_feature_names + [LABEL]:\n",
        "  car_data[feature] = car_data[feature].replace('?', np.NaN)\n",
        "  car_data[feature] = car_data[feature].astype(float)\n",
        "  car_data[feature].fillna(car_data[feature].median(),inplace = True)\n",
        "for feature in categorical_feature_names:\n",
        "  print(feature,car_data[feature].mode().iloc[0])\n",
        "  car_data[feature] = car_data[feature].replace('?', np.NaN)\n",
        "  car_data[feature].fillna(car_data[feature].mode().iloc[0],inplace = True)"
      ],
      "metadata": {
        "id": "BKtTBSrzKz_W",
        "colab": {
          "base_uri": "https://localhost:8080/"
        },
        "outputId": "b53eff98-27d2-44bb-81a6-3c669df1dd5b"
      },
      "execution_count": 113,
      "outputs": [
        {
          "output_type": "stream",
          "name": "stdout",
          "text": [
            "fuel-system mpfi\n",
            "num-doors four\n",
            "fuel-type gas\n",
            "make toyota\n",
            "body-style sedan\n",
            "drive-wheels fwd\n",
            "num-cylinders four\n",
            "aspiration std\n",
            "engine-location front\n",
            "engine-type ohc\n"
          ]
        }
      ]
    },
    {
      "cell_type": "markdown",
      "source": [
        "# Visualizing Price"
      ],
      "metadata": {
        "id": "wzu3N7E9NgBf"
      }
    },
    {
      "cell_type": "code",
      "source": [
        "car_data['price'].plot(kind = 'hist',grid = True)\n",
        "plt.title(\"Price histogram before subsetting and log-transformation\");"
      ],
      "metadata": {
        "colab": {
          "base_uri": "https://localhost:8080/",
          "height": 281
        },
        "id": "u3LWq-KQNkQo",
        "outputId": "bf858f0b-1f54-4365-e471-921046727e05"
      },
      "execution_count": 114,
      "outputs": [
        {
          "output_type": "display_data",
          "data": {
            "text/plain": [
              "<Figure size 432x288 with 1 Axes>"
            ],
            "image/png": "[encoded data removed]"
          },
          "metadata": {
            "needs_background": "light"
          }
        }
      ]
    },
    {
      "cell_type": "code",
      "source": [
        "car_data['price'].skew() # not much skewed"
      ],
      "metadata": {
        "colab": {
          "base_uri": "https://localhost:8080/"
        },
        "id": "r0Tjz3GFNoQD",
        "outputId": "4357b658-aaa2-41d5-dea3-25c4910cafbd"
      },
      "execution_count": 115,
      "outputs": [
        {
          "output_type": "execute_result",
          "data": {
            "text/plain": [
              "1.8409793088634676"
            ]
          },
          "metadata": {},
          "execution_count": 115
        }
      ]
    },
    {
      "cell_type": "code",
      "source": [
        "target = np.log(car_data.price)\n",
        "target.hist()\n",
        "plt.title(\"Price distribution after the subsetting and log-transformation\");"
      ],
      "metadata": {
        "colab": {
          "base_uri": "https://localhost:8080/",
          "height": 281
        },
        "id": "8COOcyJON0hf",
        "outputId": "43dc773b-1024-4c31-ee5d-197462644fa7"
      },
      "execution_count": 116,
      "outputs": [
        {
          "output_type": "display_data",
          "data": {
            "text/plain": [
              "<Figure size 432x288 with 1 Axes>"
            ],
            "image/png": "[encoded data removed]"
          },
          "metadata": {
            "needs_background": "light"
          }
        }
      ]
    },
    {
      "cell_type": "markdown",
      "source": [
        "# Feature Selection"
      ],
      "metadata": {
        "id": "_MWGb8ZIN5zy"
      }
    },
    {
      "cell_type": "code",
      "source": [
        "# default = plt.rcParams[\"figure.figsize\"]\n",
        "# plt.rcParams[\"figure.figsize\"] = (30,10)\n",
        "# car_data[numeric_feature_names].corr().plot()\n",
        "# plt.rcParams[\"figure.figsize\"] = default"
      ],
      "metadata": {
        "id": "ByOQ8LvPSRxk"
      },
      "execution_count": 117,
      "outputs": []
    },
    {
      "cell_type": "code",
      "source": [
        "car_data[numeric_feature_names].corr()"
      ],
      "metadata": {
        "colab": {
          "base_uri": "https://localhost:8080/",
          "height": 636
        },
        "id": "JE946RdJTNmv",
        "outputId": "645b41ec-19b4-4b0c-8a87-1e1bf7ffd3cd"
      },
      "execution_count": 118,
      "outputs": [
        {
          "output_type": "execute_result",
          "data": {
            "text/plain": [
              "                   symboling  normalized-losses  wheel-base    length  \\\n",
              "symboling           1.000000           0.457484   -0.531954 -0.357612   \n",
              "normalized-losses   0.457484           1.000000   -0.073709 -0.006837   \n",
              "wheel-base         -0.531954          -0.073709    1.000000  0.874587   \n",
              "length             -0.357612          -0.006837    0.874587  1.000000   \n",
              "width              -0.232919           0.058378    0.795144  0.841118   \n",
              "height             -0.541038          -0.365674    0.589435  0.491029   \n",
              "weight             -0.227691           0.064343    0.776386  0.877728   \n",
              "engine-size        -0.105790           0.072536    0.569329  0.683360   \n",
              "bore               -0.132563          -0.050428    0.489556  0.607016   \n",
              "stroke             -0.004928           0.046739    0.159684  0.128622   \n",
              "compression-ratio  -0.178515          -0.114772    0.249786  0.158414   \n",
              "horsepower          0.071064           0.166964    0.352876  0.553337   \n",
              "peak-rpm            0.273851           0.241134   -0.361338 -0.286362   \n",
              "city-mpg           -0.035823          -0.189530   -0.470414 -0.670909   \n",
              "highway-mpg         0.034606          -0.149357   -0.544082 -0.704662   \n",
              "\n",
              "                      width    height    weight  engine-size      bore  \\\n",
              "symboling         -0.232919 -0.541038 -0.227691    -0.105790 -0.132563   \n",
              "normalized-losses  0.058378 -0.365674  0.064343     0.072536 -0.050428   \n",
              "wheel-base         0.795144  0.589435  0.776386     0.569329  0.489556   \n",
              "length             0.841118  0.491029  0.877728     0.683360  0.607016   \n",
              "width              1.000000  0.279210  0.867032     0.735433  0.559262   \n",
              "height             0.279210  1.000000  0.295572     0.067149  0.173506   \n",
              "weight             0.867032  0.295572  1.000000     0.850594  0.648848   \n",
              "engine-size        0.735433  0.067149  0.850594     1.000000  0.585636   \n",
              "bore               0.559262  0.173506  0.648848     0.585636  1.000000   \n",
              "stroke             0.182708 -0.058994  0.168164     0.200246 -0.056054   \n",
              "compression-ratio  0.181129  0.261214  0.151362     0.028971  0.005468   \n",
              "horsepower         0.641337 -0.109286  0.750927     0.810216  0.574258   \n",
              "peak-rpm          -0.219374 -0.321113 -0.266358    -0.244383 -0.256600   \n",
              "city-mpg          -0.642704 -0.048640 -0.757414    -0.653658 -0.582627   \n",
              "highway-mpg       -0.677218 -0.107358 -0.797465    -0.677470 -0.585352   \n",
              "\n",
              "                     stroke  compression-ratio  horsepower  peak-rpm  \\\n",
              "symboling         -0.004928          -0.178515    0.071064  0.273851   \n",
              "normalized-losses  0.046739          -0.114772    0.166964  0.241134   \n",
              "wheel-base         0.159684           0.249786    0.352876 -0.361338   \n",
              "length             0.128622           0.158414    0.553337 -0.286362   \n",
              "width              0.182708           0.181129    0.641337 -0.219374   \n",
              "height            -0.058994           0.261214   -0.109286 -0.321113   \n",
              "weight             0.168164           0.151362    0.750927 -0.266358   \n",
              "engine-size        0.200246           0.028971    0.810216 -0.244383   \n",
              "bore              -0.056054           0.005468    0.574258 -0.256600   \n",
              "stroke             1.000000           0.185679    0.083804 -0.059716   \n",
              "compression-ratio  0.185679           1.000000   -0.204851 -0.436441   \n",
              "horsepower         0.083804          -0.204851    1.000000  0.130565   \n",
              "peak-rpm          -0.059716          -0.436441    0.130565  1.000000   \n",
              "city-mpg          -0.044973           0.324701   -0.802170 -0.114230   \n",
              "highway-mpg       -0.046389           0.265201   -0.770780 -0.054195   \n",
              "\n",
              "                   city-mpg  highway-mpg  \n",
              "symboling         -0.035823     0.034606  \n",
              "normalized-losses -0.189530    -0.149357  \n",
              "wheel-base        -0.470414    -0.544082  \n",
              "length            -0.670909    -0.704662  \n",
              "width             -0.642704    -0.677218  \n",
              "height            -0.048640    -0.107358  \n",
              "weight            -0.757414    -0.797465  \n",
              "engine-size       -0.653658    -0.677470  \n",
              "bore              -0.582627    -0.585352  \n",
              "stroke            -0.044973    -0.046389  \n",
              "compression-ratio  0.324701     0.265201  \n",
              "horsepower        -0.802170    -0.770780  \n",
              "peak-rpm          -0.114230    -0.054195  \n",
              "city-mpg           1.000000     0.971337  \n",
              "highway-mpg        0.971337     1.000000  "
            ],
            "text/html": [
              "\n",
              "  <div id=\"df-6c02044f-6387-443f-ba81-d5f4d420ac68\">\n",
              "    <div class=\"colab-df-container\">\n",
              "      <div>\n",
              "<style scoped>\n",
              "    .dataframe tbody tr th:only-of-type {\n",
              "        vertical-align: middle;\n",
              "    }\n",
              "\n",
              "    .dataframe tbody tr th {\n",
              "        vertical-align: top;\n",
              "    }\n",
              "\n",
              "    .dataframe thead th {\n",
              "        text-align: right;\n",
              "    }\n",
              "</style>\n",
              "<table border=\"1\" class=\"dataframe\">\n",
              "  <thead>\n",
              "    <tr style=\"text-align: right;\">\n",
              "      <th></th>\n",
              "      <th>symboling</th>\n",
              "      <th>normalized-losses</th>\n",
              "      <th>wheel-base</th>\n",
              "      <th>length</th>\n",
              "      <th>width</th>\n",
              "      <th>height</th>\n",
              "      <th>weight</th>\n",
              "      <th>engine-size</th>\n",
              "      <th>bore</th>\n",
              "      <th>stroke</th>\n",
              "      <th>compression-ratio</th>\n",
              "      <th>horsepower</th>\n",
              "      <th>peak-rpm</th>\n",
              "      <th>city-mpg</th>\n",
              "      <th>highway-mpg</th>\n",
              "    </tr>\n",
              "  </thead>\n",
              "  <tbody>\n",
              "    <tr>\n",
              "      <th>symboling</th>\n",
              "      <td>1.000000</td>\n",
              "      <td>0.457484</td>\n",
              "      <td>-0.531954</td>\n",
              "      <td>-0.357612</td>\n",
              "      <td>-0.232919</td>\n",
              "      <td>-0.541038</td>\n",
              "      <td>-0.227691</td>\n",
              "      <td>-0.105790</td>\n",
              "      <td>-0.132563</td>\n",
              "      <td>-0.004928</td>\n",
              "      <td>-0.178515</td>\n",
              "      <td>0.071064</td>\n",
              "      <td>0.273851</td>\n",
              "      <td>-0.035823</td>\n",
              "      <td>0.034606</td>\n",
              "    </tr>\n",
              "    <tr>\n",
              "      <th>normalized-losses</th>\n",
              "      <td>0.457484</td>\n",
              "      <td>1.000000</td>\n",
              "      <td>-0.073709</td>\n",
              "      <td>-0.006837</td>\n",
              "      <td>0.058378</td>\n",
              "      <td>-0.365674</td>\n",
              "      <td>0.064343</td>\n",
              "      <td>0.072536</td>\n",
              "      <td>-0.050428</td>\n",
              "      <td>0.046739</td>\n",
              "      <td>-0.114772</td>\n",
              "      <td>0.166964</td>\n",
              "      <td>0.241134</td>\n",
              "      <td>-0.189530</td>\n",
              "      <td>-0.149357</td>\n",
              "    </tr>\n",
              "    <tr>\n",
              "      <th>wheel-base</th>\n",
              "      <td>-0.531954</td>\n",
              "      <td>-0.073709</td>\n",
              "      <td>1.000000</td>\n",
              "      <td>0.874587</td>\n",
              "      <td>0.795144</td>\n",
              "      <td>0.589435</td>\n",
              "      <td>0.776386</td>\n",
              "      <td>0.569329</td>\n",
              "      <td>0.489556</td>\n",
              "      <td>0.159684</td>\n",
              "      <td>0.249786</td>\n",
              "      <td>0.352876</td>\n",
              "      <td>-0.361338</td>\n",
              "      <td>-0.470414</td>\n",
              "      <td>-0.544082</td>\n",
              "    </tr>\n",
              "    <tr>\n",
              "      <th>length</th>\n",
              "      <td>-0.357612</td>\n",
              "      <td>-0.006837</td>\n",
              "      <td>0.874587</td>\n",
              "      <td>1.000000</td>\n",
              "      <td>0.841118</td>\n",
              "      <td>0.491029</td>\n",
              "      <td>0.877728</td>\n",
              "      <td>0.683360</td>\n",
              "      <td>0.607016</td>\n",
              "      <td>0.128622</td>\n",
              "      <td>0.158414</td>\n",
              "      <td>0.553337</td>\n",
              "      <td>-0.286362</td>\n",
              "      <td>-0.670909</td>\n",
              "      <td>-0.704662</td>\n",
              "    </tr>\n",
              "    <tr>\n",
              "      <th>width</th>\n",
              "      <td>-0.232919</td>\n",
              "      <td>0.058378</td>\n",
              "      <td>0.795144</td>\n",
              "      <td>0.841118</td>\n",
              "      <td>1.000000</td>\n",
              "      <td>0.279210</td>\n",
              "      <td>0.867032</td>\n",
              "      <td>0.735433</td>\n",
              "      <td>0.559262</td>\n",
              "      <td>0.182708</td>\n",
              "      <td>0.181129</td>\n",
              "      <td>0.641337</td>\n",
              "      <td>-0.219374</td>\n",
              "      <td>-0.642704</td>\n",
              "      <td>-0.677218</td>\n",
              "    </tr>\n",
              "    <tr>\n",
              "      <th>height</th>\n",
              "      <td>-0.541038</td>\n",
              "      <td>-0.365674</td>\n",
              "      <td>0.589435</td>\n",
              "      <td>0.491029</td>\n",
              "      <td>0.279210</td>\n",
              "      <td>1.000000</td>\n",
              "      <td>0.295572</td>\n",
              "      <td>0.067149</td>\n",
              "      <td>0.173506</td>\n",
              "      <td>-0.058994</td>\n",
              "      <td>0.261214</td>\n",
              "      <td>-0.109286</td>\n",
              "      <td>-0.321113</td>\n",
              "      <td>-0.048640</td>\n",
              "      <td>-0.107358</td>\n",
              "    </tr>\n",
              "    <tr>\n",
              "      <th>weight</th>\n",
              "      <td>-0.227691</td>\n",
              "      <td>0.064343</td>\n",
              "      <td>0.776386</td>\n",
              "      <td>0.877728</td>\n",
              "      <td>0.867032</td>\n",
              "      <td>0.295572</td>\n",
              "      <td>1.000000</td>\n",
              "      <td>0.850594</td>\n",
              "      <td>0.648848</td>\n",
              "      <td>0.168164</td>\n",
              "      <td>0.151362</td>\n",
              "      <td>0.750927</td>\n",
              "      <td>-0.266358</td>\n",
              "      <td>-0.757414</td>\n",
              "      <td>-0.797465</td>\n",
              "    </tr>\n",
              "    <tr>\n",
              "      <th>engine-size</th>\n",
              "      <td>-0.105790</td>\n",
              "      <td>0.072536</td>\n",
              "      <td>0.569329</td>\n",
              "      <td>0.683360</td>\n",
              "      <td>0.735433</td>\n",
              "      <td>0.067149</td>\n",
              "      <td>0.850594</td>\n",
              "      <td>1.000000</td>\n",
              "      <td>0.585636</td>\n",
              "      <td>0.200246</td>\n",
              "      <td>0.028971</td>\n",
              "      <td>0.810216</td>\n",
              "      <td>-0.244383</td>\n",
              "      <td>-0.653658</td>\n",
              "      <td>-0.677470</td>\n",
              "    </tr>\n",
              "    <tr>\n",
              "      <th>bore</th>\n",
              "      <td>-0.132563</td>\n",
              "      <td>-0.050428</td>\n",
              "      <td>0.489556</td>\n",
              "      <td>0.607016</td>\n",
              "      <td>0.559262</td>\n",
              "      <td>0.173506</td>\n",
              "      <td>0.648848</td>\n",
              "      <td>0.585636</td>\n",
              "      <td>1.000000</td>\n",
              "      <td>-0.056054</td>\n",
              "      <td>0.005468</td>\n",
              "      <td>0.574258</td>\n",
              "      <td>-0.256600</td>\n",
              "      <td>-0.582627</td>\n",
              "      <td>-0.585352</td>\n",
              "    </tr>\n",
              "    <tr>\n",
              "      <th>stroke</th>\n",
              "      <td>-0.004928</td>\n",
              "      <td>0.046739</td>\n",
              "      <td>0.159684</td>\n",
              "      <td>0.128622</td>\n",
              "      <td>0.182708</td>\n",
              "      <td>-0.058994</td>\n",
              "      <td>0.168164</td>\n",
              "      <td>0.200246</td>\n",
              "      <td>-0.056054</td>\n",
              "      <td>1.000000</td>\n",
              "      <td>0.185679</td>\n",
              "      <td>0.083804</td>\n",
              "      <td>-0.059716</td>\n",
              "      <td>-0.044973</td>\n",
              "      <td>-0.046389</td>\n",
              "    </tr>\n",
              "    <tr>\n",
              "      <th>compression-ratio</th>\n",
              "      <td>-0.178515</td>\n",
              "      <td>-0.114772</td>\n",
              "      <td>0.249786</td>\n",
              "      <td>0.158414</td>\n",
              "      <td>0.181129</td>\n",
              "      <td>0.261214</td>\n",
              "      <td>0.151362</td>\n",
              "      <td>0.028971</td>\n",
              "      <td>0.005468</td>\n",
              "      <td>0.185679</td>\n",
              "      <td>1.000000</td>\n",
              "      <td>-0.204851</td>\n",
              "      <td>-0.436441</td>\n",
              "      <td>0.324701</td>\n",
              "      <td>0.265201</td>\n",
              "    </tr>\n",
              "    <tr>\n",
              "      <th>horsepower</th>\n",
              "      <td>0.071064</td>\n",
              "      <td>0.166964</td>\n",
              "      <td>0.352876</td>\n",
              "      <td>0.553337</td>\n",
              "      <td>0.641337</td>\n",
              "      <td>-0.109286</td>\n",
              "      <td>0.750927</td>\n",
              "      <td>0.810216</td>\n",
              "      <td>0.574258</td>\n",
              "      <td>0.083804</td>\n",
              "      <td>-0.204851</td>\n",
              "      <td>1.000000</td>\n",
              "      <td>0.130565</td>\n",
              "      <td>-0.802170</td>\n",
              "      <td>-0.770780</td>\n",
              "    </tr>\n",
              "    <tr>\n",
              "      <th>peak-rpm</th>\n",
              "      <td>0.273851</td>\n",
              "      <td>0.241134</td>\n",
              "      <td>-0.361338</td>\n",
              "      <td>-0.286362</td>\n",
              "      <td>-0.219374</td>\n",
              "      <td>-0.321113</td>\n",
              "      <td>-0.266358</td>\n",
              "      <td>-0.244383</td>\n",
              "      <td>-0.256600</td>\n",
              "      <td>-0.059716</td>\n",
              "      <td>-0.436441</td>\n",
              "      <td>0.130565</td>\n",
              "      <td>1.000000</td>\n",
              "      <td>-0.114230</td>\n",
              "      <td>-0.054195</td>\n",
              "    </tr>\n",
              "    <tr>\n",
              "      <th>city-mpg</th>\n",
              "      <td>-0.035823</td>\n",
              "      <td>-0.189530</td>\n",
              "      <td>-0.470414</td>\n",
              "      <td>-0.670909</td>\n",
              "      <td>-0.642704</td>\n",
              "      <td>-0.048640</td>\n",
              "      <td>-0.757414</td>\n",
              "      <td>-0.653658</td>\n",
              "      <td>-0.582627</td>\n",
              "      <td>-0.044973</td>\n",
              "      <td>0.324701</td>\n",
              "      <td>-0.802170</td>\n",
              "      <td>-0.114230</td>\n",
              "      <td>1.000000</td>\n",
              "      <td>0.971337</td>\n",
              "    </tr>\n",
              "    <tr>\n",
              "      <th>highway-mpg</th>\n",
              "      <td>0.034606</td>\n",
              "      <td>-0.149357</td>\n",
              "      <td>-0.544082</td>\n",
              "      <td>-0.704662</td>\n",
              "      <td>-0.677218</td>\n",
              "      <td>-0.107358</td>\n",
              "      <td>-0.797465</td>\n",
              "      <td>-0.677470</td>\n",
              "      <td>-0.585352</td>\n",
              "      <td>-0.046389</td>\n",
              "      <td>0.265201</td>\n",
              "      <td>-0.770780</td>\n",
              "      <td>-0.054195</td>\n",
              "      <td>0.971337</td>\n",
              "      <td>1.000000</td>\n",
              "    </tr>\n",
              "  </tbody>\n",
              "</table>\n",
              "</div>\n",
              "      <button class=\"colab-df-convert\" onclick=\"convertToInteractive('df-6c02044f-6387-443f-ba81-d5f4d420ac68')\"\n",
              "              title=\"Convert this dataframe to an interactive table.\"\n",
              "              style=\"display:none;\">\n",
              "        \n",
              "  <svg xmlns=\"http://www.w3.org/2000/svg\" height=\"24px\"viewBox=\"0 0 24 24\"\n",
              "       width=\"24px\">\n",
              "    <path d=\"M0 0h24v24H0V0z\" fill=\"none\"/>\n",
              "    <path d=\"M18.56 5.44l.94 2.06.94-2.06 2.06-.94-2.06-.94-.94-2.06-.94 2.06-2.06.94zm-11 1L8.5 8.5l.94-2.06 2.06-.94-2.06-.94L8.5 2.5l-.94 2.06-2.06.94zm10 10l.94 2.06.94-2.06 2.06-.94-2.06-.94-.94-2.06-.94 2.06-2.06.94z\"/><path d=\"M17.41 7.96l-1.37-1.37c-.4-.4-.92-.59-1.43-.59-.52 0-1.04.2-1.43.59L10.3 9.45l-7.72 7.72c-.78.78-.78 2.05 0 2.83L4 21.41c.39.39.9.59 1.41.59.51 0 1.02-.2 1.41-.59l7.78-7.78 2.81-2.81c.8-.78.8-2.07 0-2.86zM5.41 20L4 18.59l7.72-7.72 1.47 1.35L5.41 20z\"/>\n",
              "  </svg>\n",
              "      </button>\n",
              "      \n",
              "  <style>\n",
              "    .colab-df-container {\n",
              "      display:flex;\n",
              "      flex-wrap:wrap;\n",
              "      gap: 12px;\n",
              "    }\n",
              "\n",
              "    .colab-df-convert {\n",
              "      background-color: #E8F0FE;\n",
              "      border: none;\n",
              "      border-radius: 50%;\n",
              "      cursor: pointer;\n",
              "      display: none;\n",
              "      fill: #1967D2;\n",
              "      height: 32px;\n",
              "      padding: 0 0 0 0;\n",
              "      width: 32px;\n",
              "    }\n",
              "\n",
              "    .colab-df-convert:hover {\n",
              "      background-color: #E2EBFA;\n",
              "      box-shadow: 0px 1px 2px rgba(60, 64, 67, 0.3), 0px 1px 3px 1px rgba(60, 64, 67, 0.15);\n",
              "      fill: #174EA6;\n",
              "    }\n",
              "\n",
              "    [theme=dark] .colab-df-convert {\n",
              "      background-color: #3B4455;\n",
              "      fill: #D2E3FC;\n",
              "    }\n",
              "\n",
              "    [theme=dark] .colab-df-convert:hover {\n",
              "      background-color: #434B5C;\n",
              "      box-shadow: 0px 1px 3px 1px rgba(0, 0, 0, 0.15);\n",
              "      filter: drop-shadow(0px 1px 2px rgba(0, 0, 0, 0.3));\n",
              "      fill: #FFFFFF;\n",
              "    }\n",
              "  </style>\n",
              "\n",
              "      <script>\n",
              "        const buttonEl =\n",
              "          document.querySelector('#df-6c02044f-6387-443f-ba81-d5f4d420ac68 button.colab-df-convert');\n",
              "        buttonEl.style.display =\n",
              "          google.colab.kernel.accessAllowed ? 'block' : 'none';\n",
              "\n",
              "        async function convertToInteractive(key) {\n",
              "          const element = document.querySelector('#df-6c02044f-6387-443f-ba81-d5f4d420ac68');\n",
              "          const dataTable =\n",
              "            await google.colab.kernel.invokeFunction('convertToInteractive',\n",
              "                                                     [key], {});\n",
              "          if (!dataTable) return;\n",
              "\n",
              "          const docLinkHtml = 'Like what you see? Visit the ' +\n",
              "            '<a target=\"_blank\" href=https://colab.research.google.com/notebooks/data_table.ipynb>data table notebook</a>'\n",
              "            + ' to learn more about interactive tables.';\n",
              "          element.innerHTML = '';\n",
              "          dataTable['output_type'] = 'display_data';\n",
              "          await google.colab.output.renderOutput(dataTable, element);\n",
              "          const docLink = document.createElement('div');\n",
              "          docLink.innerHTML = docLinkHtml;\n",
              "          element.appendChild(docLink);\n",
              "        }\n",
              "      </script>\n",
              "    </div>\n",
              "  </div>\n",
              "  "
            ]
          },
          "metadata": {},
          "execution_count": 118
        }
      ]
    },
    {
      "cell_type": "code",
      "source": [
        "# numeric_feature_names = [\n",
        "# #  'symboling',\n",
        "# #  'normalized-losses',\n",
        "#  'wheel-base',\n",
        "#  'length',\n",
        "#  'width',\n",
        "# #  'height',\n",
        "#  'weight',\n",
        "#  'engine-size',\n",
        "#  'bore',\n",
        "# #  'stroke',\n",
        "# #  'compression-ratio',\n",
        "#  'horsepower',\n",
        "# #  'peak-rpm',\n",
        "#  'city-mpg',\n",
        "#  'highway-mpg'\n",
        "# ]"
      ],
      "metadata": {
        "id": "qBlGxDHJTIc4"
      },
      "execution_count": 119,
      "outputs": []
    },
    {
      "cell_type": "code",
      "source": [
        "# categorical_feature_names = [\n",
        "#  'aspiration',\n",
        "# #  'engine-type',\n",
        "# #  'fuel-system',\n",
        "#  'make',\n",
        "#  'drive-wheels',\n",
        "#  'fuel-type',\n",
        "# #  'num-cylinders',\n",
        "# #  'num-doors',\n",
        "#  'body-style',\n",
        "# #  'engine-location'\n",
        "#  ]"
      ],
      "metadata": {
        "id": "qSjI3A6_TI8v"
      },
      "execution_count": 120,
      "outputs": []
    },
    {
      "cell_type": "code",
      "source": [
        "features = car_data[numeric_feature_names + categorical_feature_names]"
      ],
      "metadata": {
        "id": "FU0ppb9pOC1I"
      },
      "execution_count": 121,
      "outputs": []
    },
    {
      "cell_type": "markdown",
      "source": [
        "# Split the data into train and test set"
      ],
      "metadata": {
        "id": "1039VMuqOE2J"
      }
    },
    {
      "cell_type": "code",
      "source": [
        "from sklearn.model_selection import train_test_split\n",
        "\n",
        "\n",
        "X_train, X_test, y_train, y_test = train_test_split(features, target, test_size=0.3, random_state=42)"
      ],
      "metadata": {
        "id": "osrJJ9hPN-0Q"
      },
      "execution_count": 122,
      "outputs": []
    },
    {
      "cell_type": "markdown",
      "source": [
        "## Types of featureColumn"
      ],
      "metadata": {
        "id": "6EQo_tF2PJqW"
      }
    },
    {
      "cell_type": "markdown",
      "source": [
        "### More at https://developers.googleblog.com/2017/11/introducing-tensorflow-feature-columns.html"
      ],
      "metadata": {
        "id": "rUOLJZE5PTd2"
      }
    },
    {
      "cell_type": "markdown",
      "source": [
        "![image.png](data:image/png;base64,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)"
      ],
      "metadata": {
        "id": "HwBxU1DoPFZB"
      }
    },
    {
      "cell_type": "markdown",
      "source": [
        "# Making Features"
      ],
      "metadata": {
        "id": "KhypDOXLPalS"
      }
    },
    {
      "cell_type": "code",
      "source": [
        "numeric_features = [tf.feature_column.numeric_column(key = column) for column in numeric_feature_names]\n",
        "numeric_features"
      ],
      "metadata": {
        "id": "_nr3f07kPfRc",
        "colab": {
          "base_uri": "https://localhost:8080/"
        },
        "outputId": "50461480-bc00-4873-fb9e-dc4feebfd239"
      },
      "execution_count": 123,
      "outputs": [
        {
          "output_type": "execute_result",
          "data": {
            "text/plain": [
              "[NumericColumn(key='symboling', shape=(1,), default_value=None, dtype=tf.float32, normalizer_fn=None),\n",
              " NumericColumn(key='normalized-losses', shape=(1,), default_value=None, dtype=tf.float32, normalizer_fn=None),\n",
              " NumericColumn(key='wheel-base', shape=(1,), default_value=None, dtype=tf.float32, normalizer_fn=None),\n",
              " NumericColumn(key='length', shape=(1,), default_value=None, dtype=tf.float32, normalizer_fn=None),\n",
              " NumericColumn(key='width', shape=(1,), default_value=None, dtype=tf.float32, normalizer_fn=None),\n",
              " NumericColumn(key='height', shape=(1,), default_value=None, dtype=tf.float32, normalizer_fn=None),\n",
              " NumericColumn(key='weight', shape=(1,), default_value=None, dtype=tf.float32, normalizer_fn=None),\n",
              " NumericColumn(key='engine-size', shape=(1,), default_value=None, dtype=tf.float32, normalizer_fn=None),\n",
              " NumericColumn(key='bore', shape=(1,), default_value=None, dtype=tf.float32, normalizer_fn=None),\n",
              " NumericColumn(key='stroke', shape=(1,), default_value=None, dtype=tf.float32, normalizer_fn=None),\n",
              " NumericColumn(key='compression-ratio', shape=(1,), default_value=None, dtype=tf.float32, normalizer_fn=None),\n",
              " NumericColumn(key='horsepower', shape=(1,), default_value=None, dtype=tf.float32, normalizer_fn=None),\n",
              " NumericColumn(key='peak-rpm', shape=(1,), default_value=None, dtype=tf.float32, normalizer_fn=None),\n",
              " NumericColumn(key='city-mpg', shape=(1,), default_value=None, dtype=tf.float32, normalizer_fn=None),\n",
              " NumericColumn(key='highway-mpg', shape=(1,), default_value=None, dtype=tf.float32, normalizer_fn=None)]"
            ]
          },
          "metadata": {},
          "execution_count": 123
        }
      ]
    },
    {
      "cell_type": "code",
      "source": [
        "categorical_features = [tf.feature_column.categorical_column_with_vocabulary_list(key = column, \n",
        "                                                                                 vocabulary_list = features[column].unique()) \n",
        "                                                                                for column in categorical_feature_names]\n",
        "categorical_features"
      ],
      "metadata": {
        "id": "0IzLASEQQS4V",
        "colab": {
          "base_uri": "https://localhost:8080/"
        },
        "outputId": "d2822b05-5807-4aa0-eeaa-9f81f37f4b93"
      },
      "execution_count": 124,
      "outputs": [
        {
          "output_type": "execute_result",
          "data": {
            "text/plain": [
              "[VocabularyListCategoricalColumn(key='fuel-system', vocabulary_list=('mpfi', 'mfi', '1bbl', '2bbl', 'spdi', 'idi', '4bbl', 'spfi'), dtype=tf.string, default_value=-1, num_oov_buckets=0),\n",
              " VocabularyListCategoricalColumn(key='num-doors', vocabulary_list=('two', 'four'), dtype=tf.string, default_value=-1, num_oov_buckets=0),\n",
              " VocabularyListCategoricalColumn(key='fuel-type', vocabulary_list=('gas', 'diesel'), dtype=tf.string, default_value=-1, num_oov_buckets=0),\n",
              " VocabularyListCategoricalColumn(key='make', vocabulary_list=('toyota', 'dodge', 'honda', 'mazda', 'subaru', 'audi', 'volvo', 'plymouth', 'bmw', 'mercury', 'nissan', 'mitsubishi', 'volkswagen', 'mercedes-benz', 'jaguar', 'alfa-romero', 'porsche', 'renault', 'isuzu', 'peugot', 'saab', 'chevrolet'), dtype=tf.string, default_value=-1, num_oov_buckets=0),\n",
              " VocabularyListCategoricalColumn(key='body-style', vocabulary_list=('sedan', 'hatchback', 'wagon', 'convertible', 'hardtop'), dtype=tf.string, default_value=-1, num_oov_buckets=0),\n",
              " VocabularyListCategoricalColumn(key='drive-wheels', vocabulary_list=('rwd', 'fwd', '4wd'), dtype=tf.string, default_value=-1, num_oov_buckets=0),\n",
              " VocabularyListCategoricalColumn(key='num-cylinders', vocabulary_list=('four', 'two', 'five', 'six', 'eight', 'three', 'twelve'), dtype=tf.string, default_value=-1, num_oov_buckets=0),\n",
              " VocabularyListCategoricalColumn(key='aspiration', vocabulary_list=('std', 'turbo'), dtype=tf.string, default_value=-1, num_oov_buckets=0),\n",
              " VocabularyListCategoricalColumn(key='engine-location', vocabulary_list=('front', 'rear'), dtype=tf.string, default_value=-1, num_oov_buckets=0),\n",
              " VocabularyListCategoricalColumn(key='engine-type', vocabulary_list=('dohc', 'ohc', 'rotor', 'ohcf', 'ohcv', 'l', 'dohcv'), dtype=tf.string, default_value=-1, num_oov_buckets=0)]"
            ]
          },
          "metadata": {},
          "execution_count": 124
        }
      ]
    },
    {
      "cell_type": "markdown",
      "source": [
        "## Numeric plus Categorical Features"
      ],
      "metadata": {
        "id": "ZJjTEh0YQqbc"
      }
    },
    {
      "cell_type": "code",
      "source": [
        "features = numeric_features + categorical_features"
      ],
      "metadata": {
        "id": "orVPO1U8Qv7Y"
      },
      "execution_count": 125,
      "outputs": []
    },
    {
      "cell_type": "markdown",
      "source": [
        "# Magic"
      ],
      "metadata": {
        "id": "v48v3HPQRKZW"
      }
    },
    {
      "cell_type": "code",
      "source": [
        "logs = \"logs\""
      ],
      "metadata": {
        "id": "j77-1eDFUOaI"
      },
      "execution_count": 126,
      "outputs": []
    },
    {
      "cell_type": "code",
      "source": [
        "%reload_ext tensorboard"
      ],
      "metadata": {
        "id": "YT3utsFBUvvj"
      },
      "execution_count": 127,
      "outputs": []
    },
    {
      "cell_type": "code",
      "source": [
        "# Load the TensorBoard notebook extension\n",
        "%load_ext tensorboard"
      ],
      "metadata": {
        "colab": {
          "base_uri": "https://localhost:8080/"
        },
        "id": "3qPhKRxsUMDp",
        "outputId": "fb2c6bac-66ab-4981-aa94-2aba8e5321e1"
      },
      "execution_count": 128,
      "outputs": [
        {
          "output_type": "stream",
          "name": "stdout",
          "text": [
            "The tensorboard extension is already loaded. To reload it, use:\n",
            "  %reload_ext tensorboard\n"
          ]
        }
      ]
    },
    {
      "cell_type": "code",
      "source": [
        "# %tensorboard --logdir logs"
      ],
      "metadata": {
        "id": "Tu_wtBfOUx8O"
      },
      "execution_count": 129,
      "outputs": []
    },
    {
      "cell_type": "code",
      "source": [
        "batch_size = 16"
      ],
      "metadata": {
        "id": "ECQSFTxkeE0f"
      },
      "execution_count": 130,
      "outputs": []
    },
    {
      "cell_type": "code",
      "source": [
        "# Create training input function\n",
        "training_input_fn = tf.compat.v1.estimator.inputs.pandas_input_fn(x = X_train,\n",
        "                                                        y=y_train,\n",
        "                                                        batch_size=batch_size,\n",
        "                                                        shuffle= True,\n",
        "                                                        num_epochs = None)\n",
        "# create testing input function\n",
        "eval_input_fn = tf.compat.v1.estimator.inputs.pandas_input_fn(x=X_test,\n",
        "                                                    y=y_test,\n",
        "                                                    batch_size=batch_size,\n",
        "                                                    shuffle=False,\n",
        "                                                    num_epochs = 1)"
      ],
      "metadata": {
        "id": "oWPYifqURNrw"
      },
      "execution_count": 131,
      "outputs": []
    },
    {
      "cell_type": "code",
      "source": [
        "linear_regressor = tf.estimator.LinearRegressor(feature_columns=features)"
      ],
      "metadata": {
        "id": "aGzCYNwkRrnB",
        "colab": {
          "base_uri": "https://localhost:8080/"
        },
        "outputId": "c2b0e9bb-e61c-4afb-99c7-e87f1b218d56"
      },
      "execution_count": 132,
      "outputs": [
        {
          "output_type": "stream",
          "name": "stderr",
          "text": [
            "WARNING:tensorflow:Using temporary folder as model directory: /tmp/tmpomu5mvos\n"
          ]
        }
      ]
    },
    {
      "cell_type": "markdown",
      "source": [
        "## Train"
      ],
      "metadata": {
        "id": "Zu9sz8Y3Rzji"
      }
    },
    {
      "cell_type": "code",
      "source": [
        "linear_regressor.train(input_fn = training_input_fn,steps=2000)"
      ],
      "metadata": {
        "id": "m1HCZOBhR0tH",
        "colab": {
          "base_uri": "https://localhost:8080/"
        },
        "outputId": "66b4d877-5a84-4eb9-a578-f1a704ea73b9"
      },
      "execution_count": 133,
      "outputs": [
        {
          "output_type": "execute_result",
          "data": {
            "text/plain": [
              "<tensorflow_estimator.python.estimator.canned.linear.LinearRegressorV2 at 0x7f63a6ce0cd0>"
            ]
          },
          "metadata": {},
          "execution_count": 133
        }
      ]
    },
    {
      "cell_type": "code",
      "source": [
        "model_feature_columns = [\n",
        "    tf.feature_column.indicator_column(\n",
        "        tf.feature_column.categorical_column_with_vocabulary_list(\n",
        "            feature_name, vocabulary_list=car_data[feature_name].unique()))\n",
        "    for feature_name in categorical_feature_names\n",
        "]\n",
        "print('model_feature_columns', model_feature_columns)\n",
        "\n",
        "DNNRegressor = tf.compat.v1.estimator.DNNRegressor(\n",
        "    feature_columns=model_feature_columns,\n",
        "    hidden_units=[64],\n",
        "    optimizer=tf.compat.v1.train.ProximalAdagradOptimizer(\n",
        "      learning_rate=0.1,\n",
        "      # l1_regularization_strength=0.001,\n",
        "    ))\n",
        "\n",
        "# TRAIN\n",
        "num_print_statements = 10\n",
        "num_training_steps = 10000\n",
        "for _ in range(num_print_statements):\n",
        "  DNNRegressor.train(training_input_fn, steps=num_training_steps // num_print_statements)\n",
        "  scores = DNNRegressor.evaluate(eval_input_fn)"
      ],
      "metadata": {
        "colab": {
          "base_uri": "https://localhost:8080/"
        },
        "id": "iwl7IHqlV9wv",
        "outputId": "870ccc4f-7a29-477d-c46a-7ccefbb882b5"
      },
      "execution_count": 134,
      "outputs": [
        {
          "output_type": "stream",
          "name": "stderr",
          "text": [
            "WARNING:tensorflow:Using temporary folder as model directory: /tmp/tmpcut8tj7f\n"
          ]
        },
        {
          "output_type": "stream",
          "name": "stdout",
          "text": [
            "model_feature_columns [IndicatorColumn(categorical_column=VocabularyListCategoricalColumn(key='fuel-system', vocabulary_list=('mpfi', 'mfi', '1bbl', '2bbl', 'spdi', 'idi', '4bbl', 'spfi'), dtype=tf.string, default_value=-1, num_oov_buckets=0)), IndicatorColumn(categorical_column=VocabularyListCategoricalColumn(key='num-doors', vocabulary_list=('two', 'four'), dtype=tf.string, default_value=-1, num_oov_buckets=0)), IndicatorColumn(categorical_column=VocabularyListCategoricalColumn(key='fuel-type', vocabulary_list=('gas', 'diesel'), dtype=tf.string, default_value=-1, num_oov_buckets=0)), IndicatorColumn(categorical_column=VocabularyListCategoricalColumn(key='make', vocabulary_list=('toyota', 'dodge', 'honda', 'mazda', 'subaru', 'audi', 'volvo', 'plymouth', 'bmw', 'mercury', 'nissan', 'mitsubishi', 'volkswagen', 'mercedes-benz', 'jaguar', 'alfa-romero', 'porsche', 'renault', 'isuzu', 'peugot', 'saab', 'chevrolet'), dtype=tf.string, default_value=-1, num_oov_buckets=0)), IndicatorColumn(categorical_column=VocabularyListCategoricalColumn(key='body-style', vocabulary_list=('sedan', 'hatchback', 'wagon', 'convertible', 'hardtop'), dtype=tf.string, default_value=-1, num_oov_buckets=0)), IndicatorColumn(categorical_column=VocabularyListCategoricalColumn(key='drive-wheels', vocabulary_list=('rwd', 'fwd', '4wd'), dtype=tf.string, default_value=-1, num_oov_buckets=0)), IndicatorColumn(categorical_column=VocabularyListCategoricalColumn(key='num-cylinders', vocabulary_list=('four', 'two', 'five', 'six', 'eight', 'three', 'twelve'), dtype=tf.string, default_value=-1, num_oov_buckets=0)), IndicatorColumn(categorical_column=VocabularyListCategoricalColumn(key='aspiration', vocabulary_list=('std', 'turbo'), dtype=tf.string, default_value=-1, num_oov_buckets=0)), IndicatorColumn(categorical_column=VocabularyListCategoricalColumn(key='engine-location', vocabulary_list=('front', 'rear'), dtype=tf.string, default_value=-1, num_oov_buckets=0)), IndicatorColumn(categorical_column=VocabularyListCategoricalColumn(key='engine-type', vocabulary_list=('dohc', 'ohc', 'rotor', 'ohcf', 'ohcv', 'l', 'dohcv'), dtype=tf.string, default_value=-1, num_oov_buckets=0))]\n"
          ]
        }
      ]
    },
    {
      "cell_type": "code",
      "source": [
        "linear_regressor.evaluate(input_fn = eval_input_fn)"
      ],
      "metadata": {
        "id": "XSCuu5QrR65S",
        "colab": {
          "base_uri": "https://localhost:8080/"
        },
        "outputId": "7cf97a32-8377-49f2-eae9-f328f4e469b9"
      },
      "execution_count": 135,
      "outputs": [
        {
          "output_type": "execute_result",
          "data": {
            "text/plain": [
              "{'average_loss': 0.09593267,\n",
              " 'label/mean': 9.231319,\n",
              " 'loss': 0.09420201,\n",
              " 'prediction/mean': 9.26064,\n",
              " 'global_step': 2000}"
            ]
          },
          "metadata": {},
          "execution_count": 135
        }
      ]
    },
    {
      "cell_type": "code",
      "source": [
        "metrics = DNNRegressor.evaluate(input_fn=eval_input_fn)"
      ],
      "metadata": {
        "id": "Dh437P5tWZSX"
      },
      "execution_count": 136,
      "outputs": []
    },
    {
      "cell_type": "markdown",
      "source": [
        "## Predict"
      ],
      "metadata": {
        "id": "4sCpr7WNSTuN"
      }
    },
    {
      "cell_type": "code",
      "source": [
        "X = X_test\n",
        "Y = y_test\n",
        "\n",
        "predict_input_fn = tf.compat.v1.estimator.inputs.pandas_input_fn(\n",
        "    x=X_test,\n",
        "    batch_size=batch_size,\n",
        "    shuffle=False)\n",
        "\n",
        "linear_pred = list(linear_regressor.predict(input_fn = predict_input_fn))\n",
        "dnn_predictions = list(DNNRegressor.predict(input_fn= predict_input_fn))\n",
        "\n",
        "pred_linear = [p['predictions'][0] for p in linear_pred]\n",
        "pred_dnn = [p['predictions'][0] for p in dnn_predictions]\n",
        "\n",
        "predicted_prices_linear = np.around(np.exp(pred_linear)) # exp it up from log value and round it up\n",
        "predicted_prices_dnn = np.around(np.exp(pred_dnn)) # exp it up from log value and round it up\n",
        "\n",
        "\n",
        "original_prices = np.exp(y_test)\n",
        "results_data = {'ground_truth': original_prices, 'prediction_linear' : predicted_prices_linear, 'diff_linear' : predicted_prices_linear  - original_prices,  'prediction_dnn' : predicted_prices_dnn, 'diff_dnn' : predicted_prices_dnn  - original_prices }\n",
        "r_df = pd.DataFrame(results_data)\n",
        "r_df"
      ],
      "metadata": {
        "id": "wAzYvbCESVAb",
        "colab": {
          "base_uri": "https://localhost:8080/",
          "height": 655
        },
        "outputId": "895c66e4-f9b0-48ba-e927-a57a9869514b"
      },
      "execution_count": 138,
      "outputs": [
        {
          "output_type": "execute_result",
          "data": {
            "text/plain": [
              "     ground_truth  prediction_linear  diff_linear  prediction_dnn  diff_dnn\n",
              "172       17669.0            27956.0      10287.0         13956.0   -3713.0\n",
              "118        5572.0             6731.0       1159.0          5207.0    -365.0\n",
              "90         7099.0             7351.0        252.0          8327.0    1228.0\n",
              "4         17450.0            14421.0      -3029.0         11983.0   -5467.0\n",
              "95         7799.0             7186.0       -613.0          6630.0   -1169.0\n",
              "..            ...                ...          ...             ...       ...\n",
              "81         8499.0             8182.0       -317.0          5343.0   -3156.0\n",
              "200       16845.0            26812.0       9967.0         14314.0   -2531.0\n",
              "112       16900.0            13848.0      -3052.0         14498.0   -2402.0\n",
              "55        10945.0            12705.0       1760.0         12594.0    1649.0\n",
              "22         6377.0             6480.0        103.0          8240.0    1863.0\n",
              "\n",
              "[62 rows x 5 columns]"
            ],
            "text/html": [
              "\n",
              "  <div id=\"df-715f5244-6856-4587-8ecf-47b2082420ca\">\n",
              "    <div class=\"colab-df-container\">\n",
              "      <div>\n",
              "<style scoped>\n",
              "    .dataframe tbody tr th:only-of-type {\n",
              "        vertical-align: middle;\n",
              "    }\n",
              "\n",
              "    .dataframe tbody tr th {\n",
              "        vertical-align: top;\n",
              "    }\n",
              "\n",
              "    .dataframe thead th {\n",
              "        text-align: right;\n",
              "    }\n",
              "</style>\n",
              "<table border=\"1\" class=\"dataframe\">\n",
              "  <thead>\n",
              "    <tr style=\"text-align: right;\">\n",
              "      <th></th>\n",
              "      <th>ground_truth</th>\n",
              "      <th>prediction_linear</th>\n",
              "      <th>diff_linear</th>\n",
              "      <th>prediction_dnn</th>\n",
              "      <th>diff_dnn</th>\n",
              "    </tr>\n",
              "  </thead>\n",
              "  <tbody>\n",
              "    <tr>\n",
              "      <th>172</th>\n",
              "      <td>17669.0</td>\n",
              "      <td>27956.0</td>\n",
              "      <td>10287.0</td>\n",
              "      <td>13956.0</td>\n",
              "      <td>-3713.0</td>\n",
              "    </tr>\n",
              "    <tr>\n",
              "      <th>118</th>\n",
              "      <td>5572.0</td>\n",
              "      <td>6731.0</td>\n",
              "      <td>1159.0</td>\n",
              "      <td>5207.0</td>\n",
              "      <td>-365.0</td>\n",
              "    </tr>\n",
              "    <tr>\n",
              "      <th>90</th>\n",
              "      <td>7099.0</td>\n",
              "      <td>7351.0</td>\n",
              "      <td>252.0</td>\n",
              "      <td>8327.0</td>\n",
              "      <td>1228.0</td>\n",
              "    </tr>\n",
              "    <tr>\n",
              "      <th>4</th>\n",
              "      <td>17450.0</td>\n",
              "      <td>14421.0</td>\n",
              "      <td>-3029.0</td>\n",
              "      <td>11983.0</td>\n",
              "      <td>-5467.0</td>\n",
              "    </tr>\n",
              "    <tr>\n",
              "      <th>95</th>\n",
              "      <td>7799.0</td>\n",
              "      <td>7186.0</td>\n",
              "      <td>-613.0</td>\n",
              "      <td>6630.0</td>\n",
              "      <td>-1169.0</td>\n",
              "    </tr>\n",
              "    <tr>\n",
              "      <th>...</th>\n",
              "      <td>...</td>\n",
              "      <td>...</td>\n",
              "      <td>...</td>\n",
              "      <td>...</td>\n",
              "      <td>...</td>\n",
              "    </tr>\n",
              "    <tr>\n",
              "      <th>81</th>\n",
              "      <td>8499.0</td>\n",
              "      <td>8182.0</td>\n",
              "      <td>-317.0</td>\n",
              "      <td>5343.0</td>\n",
              "      <td>-3156.0</td>\n",
              "    </tr>\n",
              "    <tr>\n",
              "      <th>200</th>\n",
              "      <td>16845.0</td>\n",
              "      <td>26812.0</td>\n",
              "      <td>9967.0</td>\n",
              "      <td>14314.0</td>\n",
              "      <td>-2531.0</td>\n",
              "    </tr>\n",
              "    <tr>\n",
              "      <th>112</th>\n",
              "      <td>16900.0</td>\n",
              "      <td>13848.0</td>\n",
              "      <td>-3052.0</td>\n",
              "      <td>14498.0</td>\n",
              "      <td>-2402.0</td>\n",
              "    </tr>\n",
              "    <tr>\n",
              "      <th>55</th>\n",
              "      <td>10945.0</td>\n",
              "      <td>12705.0</td>\n",
              "      <td>1760.0</td>\n",
              "      <td>12594.0</td>\n",
              "      <td>1649.0</td>\n",
              "    </tr>\n",
              "    <tr>\n",
              "      <th>22</th>\n",
              "      <td>6377.0</td>\n",
              "      <td>6480.0</td>\n",
              "      <td>103.0</td>\n",
              "      <td>8240.0</td>\n",
              "      <td>1863.0</td>\n",
              "    </tr>\n",
              "  </tbody>\n",
              "</table>\n",
              "<p>62 rows × 5 columns</p>\n",
              "</div>\n",
              "      <button class=\"colab-df-convert\" onclick=\"convertToInteractive('df-715f5244-6856-4587-8ecf-47b2082420ca')\"\n",
              "              title=\"Convert this dataframe to an interactive table.\"\n",
              "              style=\"display:none;\">\n",
              "        \n",
              "  <svg xmlns=\"http://www.w3.org/2000/svg\" height=\"24px\"viewBox=\"0 0 24 24\"\n",
              "       width=\"24px\">\n",
              "    <path d=\"M0 0h24v24H0V0z\" fill=\"none\"/>\n",
              "    <path d=\"M18.56 5.44l.94 2.06.94-2.06 2.06-.94-2.06-.94-.94-2.06-.94 2.06-2.06.94zm-11 1L8.5 8.5l.94-2.06 2.06-.94-2.06-.94L8.5 2.5l-.94 2.06-2.06.94zm10 10l.94 2.06.94-2.06 2.06-.94-2.06-.94-.94-2.06-.94 2.06-2.06.94z\"/><path d=\"M17.41 7.96l-1.37-1.37c-.4-.4-.92-.59-1.43-.59-.52 0-1.04.2-1.43.59L10.3 9.45l-7.72 7.72c-.78.78-.78 2.05 0 2.83L4 21.41c.39.39.9.59 1.41.59.51 0 1.02-.2 1.41-.59l7.78-7.78 2.81-2.81c.8-.78.8-2.07 0-2.86zM5.41 20L4 18.59l7.72-7.72 1.47 1.35L5.41 20z\"/>\n",
              "  </svg>\n",
              "      </button>\n",
              "      \n",
              "  <style>\n",
              "    .colab-df-container {\n",
              "      display:flex;\n",
              "      flex-wrap:wrap;\n",
              "      gap: 12px;\n",
              "    }\n",
              "\n",
              "    .colab-df-convert {\n",
              "      background-color: #E8F0FE;\n",
              "      border: none;\n",
              "      border-radius: 50%;\n",
              "      cursor: pointer;\n",
              "      display: none;\n",
              "      fill: #1967D2;\n",
              "      height: 32px;\n",
              "      padding: 0 0 0 0;\n",
              "      width: 32px;\n",
              "    }\n",
              "\n",
              "    .colab-df-convert:hover {\n",
              "      background-color: #E2EBFA;\n",
              "      box-shadow: 0px 1px 2px rgba(60, 64, 67, 0.3), 0px 1px 3px 1px rgba(60, 64, 67, 0.15);\n",
              "      fill: #174EA6;\n",
              "    }\n",
              "\n",
              "    [theme=dark] .colab-df-convert {\n",
              "      background-color: #3B4455;\n",
              "      fill: #D2E3FC;\n",
              "    }\n",
              "\n",
              "    [theme=dark] .colab-df-convert:hover {\n",
              "      background-color: #434B5C;\n",
              "      box-shadow: 0px 1px 3px 1px rgba(0, 0, 0, 0.15);\n",
              "      filter: drop-shadow(0px 1px 2px rgba(0, 0, 0, 0.3));\n",
              "      fill: #FFFFFF;\n",
              "    }\n",
              "  </style>\n",
              "\n",
              "      <script>\n",
              "        const buttonEl =\n",
              "          document.querySelector('#df-715f5244-6856-4587-8ecf-47b2082420ca button.colab-df-convert');\n",
              "        buttonEl.style.display =\n",
              "          google.colab.kernel.accessAllowed ? 'block' : 'none';\n",
              "\n",
              "        async function convertToInteractive(key) {\n",
              "          const element = document.querySelector('#df-715f5244-6856-4587-8ecf-47b2082420ca');\n",
              "          const dataTable =\n",
              "            await google.colab.kernel.invokeFunction('convertToInteractive',\n",
              "                                                     [key], {});\n",
              "          if (!dataTable) return;\n",
              "\n",
              "          const docLinkHtml = 'Like what you see? Visit the ' +\n",
              "            '<a target=\"_blank\" href=https://colab.research.google.com/notebooks/data_table.ipynb>data table notebook</a>'\n",
              "            + ' to learn more about interactive tables.';\n",
              "          element.innerHTML = '';\n",
              "          dataTable['output_type'] = 'display_data';\n",
              "          await google.colab.output.renderOutput(dataTable, element);\n",
              "          const docLink = document.createElement('div');\n",
              "          docLink.innerHTML = docLinkHtml;\n",
              "          element.appendChild(docLink);\n",
              "        }\n",
              "      </script>\n",
              "    </div>\n",
              "  </div>\n",
              "  "
            ]
          },
          "metadata": {},
          "execution_count": 138
        }
      ]
    },
    {
      "cell_type": "markdown",
      "source": [],
      "metadata": {
        "id": "B19u1VJ8fhXK"
      }
    },
    {
      "cell_type": "markdown",
      "source": [
        "# Export to Google Sheets"
      ],
      "metadata": {
        "id": "4pXuhzckffWh"
      }
    },
    {
      "cell_type": "code",
      "source": [
        "# authenticate\n",
        "\n",
        "from google.colab import auth\n",
        "import gspread\n",
        "from google.auth import default\n",
        "#autenticating to google\n",
        "auth.authenticate_user()\n",
        "creds, _ = default()\n",
        "gc = gspread.authorize(creds)"
      ],
      "metadata": {
        "id": "CbrtxQ3Vfisq"
      },
      "execution_count": 139,
      "outputs": []
    },
    {
      "cell_type": "code",
      "source": [
        "# create, and save df\n",
        "from gspread_dataframe import set_with_dataframe\n",
        "title = 'car_example_tensor_flow_estimator'\n",
        "gc.create(title)  # if not exist\n",
        "sheet = gc.open(title).sheet1\n",
        "set_with_dataframe(sheet, r_df,include_index=False, include_column_header=True, resize=False) \n",
        "# include_index=False, include_column_header=True, resize=False"
      ],
      "metadata": {
        "id": "2bgfuZjsf0sw"
      },
      "execution_count": 140,
      "outputs": []
    },
    {
      "cell_type": "code",
      "source": [
        "feature_weights_to_plot = categorical_feature_names\n",
        "# num_cols = 3\n",
        "# num_rows = int(math.ceil(len(feature_weights_to_plot)/float(num_cols)))\n",
        "# f, axarr = plt.subplots(num_rows, num_cols)\n",
        "\n",
        "for i, feature_name in enumerate(feature_weights_to_plot):\n",
        "  # axis = axarr[int(i/num_cols), i%num_cols]\n",
        "  property_weights = linear_regressor.get_variable_value('linear/linear_model/{}/weights'.format(feature_name)).flatten()\n",
        "  property_keys = car_data[feature_name].value_counts().keys()\n",
        "  f = pd.DataFrame({\"Weights\":property_weights},index=property_keys).sort_values(\"Weights\",ascending=True).plot(kind='barh');\n",
        "  # axis.set_ylabel('feature_value')\n",
        "  # axis.set_xlabel('feature_name')\n",
        "  # axis.plot(f)\n",
        "plt.show()"
      ],
      "metadata": {
        "id": "iHySgQpITvYq",
        "colab": {
          "base_uri": "https://localhost:8080/",
          "height": 1000
        },
        "outputId": "67a904c0-5177-4746-e5ee-98100aa45563"
      },
      "execution_count": 141,
      "outputs": [
        {
          "output_type": "display_data",
          "data": {
            "text/plain": [
              "<Figure size 432x288 with 1 Axes>"
            ],
            "image/png": "[encoded data removed]"
          },
          "metadata": {
            "needs_background": "light"
          }
        },
        {
          "output_type": "display_data",
          "data": {
            "text/plain": [
              "<Figure size 432x288 with 1 Axes>"
            ],
            "image/png": "[encoded data removed]"
          },
          "metadata": {
            "needs_background": "light"
          }
        },
        {
          "output_type": "display_data",
          "data": {
            "text/plain": [
              "<Figure size 432x288 with 1 Axes>"
            ],
            "image/png": "[encoded data removed]"
          },
          "metadata": {
            "needs_background": "light"
          }
        },
        {
          "output_type": "display_data",
          "data": {
            "text/plain": [
              "<Figure size 432x288 with 1 Axes>"
            ],
            "image/png": "[encoded data removed]"
          },
          "metadata": {
            "needs_background": "light"
          }
        },
        {
          "output_type": "display_data",
          "data": {
            "text/plain": [
              "<Figure size 432x288 with 1 Axes>"
            ],
            "image/png": "[encoded data removed]"
          },
          "metadata": {
            "needs_background": "light"
          }
        },
        {
          "output_type": "display_data",
          "data": {
            "text/plain": [
              "<Figure size 432x288 with 1 Axes>"
            ],
            "image/png": "[encoded data removed]"
          },
          "metadata": {
            "needs_background": "light"
          }
        },
        {
          "output_type": "display_data",
          "data": {
            "text/plain": [
              "<Figure size 432x288 with 1 Axes>"
            ],
            "image/png": "[encoded data removed]"
          },
          "metadata": {
            "needs_background": "light"
          }
        },
        {
          "output_type": "display_data",
          "data": {
            "text/plain": [
              "<Figure size 432x288 with 1 Axes>"
            ],
            "image/png": "[encoded data removed]"
          },
          "metadata": {
            "needs_background": "light"
          }
        },
        {
          "output_type": "display_data",
          "data": {
            "text/plain": [
              "<Figure size 432x288 with 1 Axes>"
            ],
            "image/png": "[encoded data removed]"
          },
          "metadata": {
            "needs_background": "light"
          }
        },
        {
          "output_type": "display_data",
          "data": {
            "text/plain": [
              "<Figure size 432x288 with 1 Axes>"
            ],
            "image/png": "[encoded data removed]"
          },
          "metadata": {
            "needs_background": "light"
          }
        }
      ]
    }
  ]
}